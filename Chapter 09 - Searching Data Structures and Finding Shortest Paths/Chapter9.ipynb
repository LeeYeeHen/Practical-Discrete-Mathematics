{
  "cells": [
    {
      "cell_type": "markdown",
      "metadata": {
        "id": "rm-gZ0_MGCVZ"
      },
      "source": [
        "# Chapter 9 - Searching Data Structures and Finding Shortest Paths\n",
        "\n",
        "This notebook contains code accompanying Chapter 9 Searching Data Structures and Finding Shortest Paths in *Practical Discrete Mathematics* by Ryan T. White and Archana Tikayat Ray\n",
        "\n",
        "For most of the code in the chapter, we need to import the `NumPy` library."
      ]
    },
    {
      "cell_type": "code",
      "execution_count": 1,
      "metadata": {
        "id": "vO1Gf1OgGCVb"
      },
      "outputs": [],
      "source": [
        "import numpy"
      ]
    },
    {
      "cell_type": "markdown",
      "metadata": {
        "id": "-JplJ5bPGCVb"
      },
      "source": [
        "## A Python Implementation of DFS"
      ]
    },
    {
      "cell_type": "code",
      "execution_count": 4,
      "metadata": {
        "id": "VfdAfVk_GCVc"
      },
      "outputs": [],
      "source": [
        "# Depth First Search\n",
        "#\n",
        "# INPUTS\n",
        "# A - an adjacency matrix. It should be square, symmetric, and binary\n",
        "# source - the number of the source vertex\n",
        "#\n",
        "# OUTPUTS\n",
        "# vertexList - an ordered list of vertices found in the search\n",
        "\n",
        "def DFS(A, source):\n",
        "    # reduce the source by 1 to avoid off-by-1 errors\n",
        "    source -= 1\n",
        "\n",
        "    # find the number of vertices\n",
        "    n = A.shape[0]\n",
        "\n",
        "    # initialize the unvisited vertex set to be full\n",
        "    unvisited = [1] * n\n",
        "\n",
        "    # initialize a queue with the source vertex\n",
        "    stack = [source]\n",
        "\n",
        "    # initialize the vertex list\n",
        "    vertexList = []\n",
        "\n",
        "    # while the stack is not empty\n",
        "    while stack:\n",
        "        # remove the just-visited vertex from the stack and store it\n",
        "        v = stack.pop()\n",
        "\n",
        "        # if v is unvisited, add it to our list and mark it as visited\n",
        "        if unvisited[v]:\n",
        "            # save and print the number of the newly visited vertex\n",
        "            vertexList.append(v)\n",
        "\n",
        "            # mark the vertex as visited\n",
        "            unvisited[v] = 0\n",
        "\n",
        "        # iterate through the vertices\n",
        "        for u in range(n - 1, 0, -1):\n",
        "            # add each unvisited neighbor to the stack\n",
        "            if A[v,u] == 1 and unvisited[u] == 1:\n",
        "                stack.append(u)\n",
        "\n",
        "    # return the vertex list found by DFS\n",
        "    return vertexList"
      ]
    },
    {
      "cell_type": "markdown",
      "metadata": {
        "id": "IiveXe2qGCVc"
      },
      "source": [
        "Let's save the adjacency matrix for the graph in Figure 9.1."
      ]
    },
    {
      "cell_type": "code",
      "execution_count": null,
      "metadata": {
        "id": "b9W0XORrGCVc"
      },
      "outputs": [],
      "source": [
        "# Save the adjacency matrix for the graph in Figure 9.1\n",
        "A = numpy.array([[0, 1, 0, 0, 1, 0, 0, 0, 0, 0, 0],\n",
        "                  [1, 0, 0, 0, 0, 0, 0, 0, 0, 0, 0],\n",
        "                  [0, 0, 0, 1, 0, 1, 0, 0, 0, 0, 0],\n",
        "                  [0, 0, 1, 0, 1, 1, 0, 0, 0, 0, 0],\n",
        "                  [1, 0, 0, 1, 0, 0, 1, 1, 1, 0, 0],\n",
        "                  [0, 0, 1, 1, 0, 0, 0, 0, 0, 0, 0],\n",
        "                  [0, 0, 0, 0, 1, 0, 0, 1, 0, 1, 0],\n",
        "                  [0, 0, 0, 0, 1, 0, 1, 0, 1, 1, 0],\n",
        "                  [0, 0, 0, 0, 1, 0, 0, 1, 0, 1, 0],\n",
        "                  [0, 0, 0, 0, 0, 0, 1, 1, 1, 0, 0],\n",
        "                  [0, 0, 0, 0, 0, 0, 0, 0, 0, 0, 0]])"
      ]
    },
    {
      "cell_type": "markdown",
      "metadata": {
        "id": "mzVBvYbcGCVc"
      },
      "source": [
        "Next, let's run DFS on the graph starting with source vertex 1."
      ]
    },
    {
      "cell_type": "code",
      "execution_count": null,
      "metadata": {
        "id": "B2ZlbVlCGCVd",
        "outputId": "6096e6b1-2c05-444d-e7f4-e910c02b878e"
      },
      "outputs": [
        {
          "data": {
            "text/plain": [
              "[1, 2, 5, 4, 3, 6, 7, 8, 9, 10]"
            ]
          },
          "execution_count": 4,
          "metadata": {},
          "output_type": "execute_result"
        }
      ],
      "source": [
        "# Run DFS on the graph with adjacency matrix A and source 1\n",
        "vertexList = DFS(A,1)\n",
        "\n",
        "# Add 1 to the vertex numbers\n",
        "[x + 1 for x in vertexList]"
      ]
    },
    {
      "cell_type": "markdown",
      "metadata": {
        "id": "5igpJDw2GCVd"
      },
      "source": [
        "## Shortest Paths on Networks\n",
        "\n",
        "The following function checks if a path exists between vertex i and vertex j."
      ]
    },
    {
      "cell_type": "code",
      "execution_count": null,
      "metadata": {
        "id": "qxKEQFLiGCVd"
      },
      "outputs": [],
      "source": [
        "# create a function that returns True if vertex i and vertex j are\n",
        "# connected in the graph represented by the input adjacency matrix A\n",
        "def isConnected(A, i, j):\n",
        "    # initialize the paths matrix to adjacency matrix A\n",
        "    paths = A\n",
        "\n",
        "    # find the number of vertices in the graph\n",
        "    numberOfVertices = A.shape[0]\n",
        "\n",
        "    # find the number of edges in the graph\n",
        "    numberOfEdges = numpy.sum(A)/2\n",
        "\n",
        "    # if vi and vj are adjacent, return True\n",
        "    if paths[i-1][j-1] > 0:\n",
        "        print('Vertex', i, 'and vertex', j, 'are adjacent')\n",
        "        return True\n",
        "\n",
        "    else:\n",
        "        # run the loop until we find a path\n",
        "        for pathLength in range(2, numberOfVertices):\n",
        "            # exponentiate the adjacency matrix\n",
        "            paths = numpy.dot(paths, A)\n",
        "\n",
        "            # if the element in row i, column j is more than 0, we\n",
        "            # found a path\n",
        "            if paths[i-1][j-1] > 0:\n",
        "                print('There is a path with', pathLength,\n",
        "                      'edges from vertex', i, 'to vertex', j)\n",
        "                return True\n",
        "\n",
        "        # found no paths, the vertices are not connected\n",
        "        if pathLength == numberOfEdges:\n",
        "            print('There are no paths from vertex', i, 'to vertex', j)\n",
        "            return False"
      ]
    },
    {
      "cell_type": "markdown",
      "metadata": {
        "id": "EzWGQsBjGCVe"
      },
      "source": [
        "Let's create adjacency matrices for the graphs in Figure 9.6 and test our function."
      ]
    },
    {
      "cell_type": "code",
      "execution_count": null,
      "metadata": {
        "id": "sa5YHQ0FGCVe",
        "outputId": "7c200c81-ac6e-4441-c23f-773adab5bde1"
      },
      "outputs": [
        {
          "name": "stdout",
          "output_type": "stream",
          "text": [
            "There is a path with 2 edges from vertex 1 to vertex 4\n",
            "True\n",
            "Vertex 2 and vertex 3 are adjacent\n",
            "True\n",
            "There is a path with 3 edges from vertex 5 to vertex 6\n",
            "True\n",
            "There is a path with 2 edges from vertex 1 to vertex 6\n",
            "True\n",
            "There are no paths from vertex 2 to vertex 5\n",
            "False\n",
            "There are no paths from vertex 1 to vertex 4\n",
            "False\n"
          ]
        }
      ],
      "source": [
        "# create an adjacency matrix for the graph G1\n",
        "A1 = numpy.array([[0, 1, 1, 0, 1, 0], [1, 0, 1, 1, 0, 1],\n",
        "                  [1, 1, 0, 1, 1, 0], [0, 1, 1, 0, 1, 0],\n",
        "                  [1, 0, 1, 1, 0, 0], [0, 1, 0, 0, 0, 0]])\n",
        "\n",
        "# check if various vertices are connected\n",
        "print(isConnected(A1, 1, 4))\n",
        "print(isConnected(A1, 2, 3))\n",
        "print(isConnected(A1, 5, 6))\n",
        "\n",
        "# create an adjacency matrix for graph G2\n",
        "A2 = numpy.array([[0, 1, 0, 0, 0, 0], [1, 0, 0, 0, 0, 1],\n",
        "                  [0, 0, 0, 1, 1, 0], [0, 0, 1, 0, 1, 0],\n",
        "                  [0, 0, 1, 1, 0, 0], [0, 1, 0, 0, 0, 0]])\n",
        "\n",
        "print(isConnected(A2, 1, 6))\n",
        "print(isConnected(A2, 2, 5))\n",
        "print(isConnected(A2, 1, 4))"
      ]
    },
    {
      "cell_type": "markdown",
      "metadata": {
        "id": "BVc9g3Q9GCVe"
      },
      "source": [
        "## Python Implementation of Dijkstra’s Algorithm\n",
        "\n"
      ]
    },
    {
      "cell_type": "code",
      "execution_count": null,
      "metadata": {
        "id": "WEg_tmeBGCVe"
      },
      "outputs": [],
      "source": [
        "import numpy\n",
        "\n",
        "# Dijkstra's algorithm for finding shortest paths from the source\n",
        "# vertex to all other vertices in the graph\n",
        "#\n",
        "# INPUTS\n",
        "# W - a weight matrix. It should be a square matrix\n",
        "# i - the number of the source node\n",
        "#\n",
        "# OUTPUTS\n",
        "# shortestDistances - the shortest distances from the source to each\n",
        "# vertex\n",
        "# previousVertices - the previous vertex to the destination in a\n",
        "# shortest path from the source to a destination\n",
        "def Dijkstra(W, i):\n",
        "    # find the number of vertices\n",
        "    n = W.shape[0]\n",
        "\n",
        "    # initialize the shortest distances to infinity\n",
        "    shortestDistances = numpy.array([numpy.inf] * n)\n",
        "\n",
        "    # initialize the previous vertices\n",
        "    previousVertices = numpy.array([numpy.inf] * n)\n",
        "\n",
        "    # initialize the unvisited vertex set to be full\n",
        "    unvisited = numpy.array([1] * n)\n",
        "\n",
        "    # mark the source as visited\n",
        "    unvisited[i - 1] = 0\n",
        "\n",
        "    # initialize distance from the source to the source as 0\n",
        "    shortestDistances[i - 1] = 0\n",
        "\n",
        "    # loop for iteration per vertex until the unvisited set is empty\n",
        "    for _ in range(n):\n",
        "        # find the distances to all unvisited adjacent vertices and\n",
        "        # set others to 0\n",
        "        distances = shortestDistances * unvisited\n",
        "\n",
        "        # find the index of the nearest unvisited vertex (where\n",
        "        # distances > 0)\n",
        "        x = numpy.argmin(numpy.ma.masked_where(\n",
        "            distances == 0, distances))\n",
        "\n",
        "        # mark vertex x as visited\n",
        "        unvisited[x] = 0\n",
        "\n",
        "        # iterate through the vertices\n",
        "        for v in range(n):\n",
        "\n",
        "            oldDistance = shortestDistances[v]\n",
        "            newDistance = shortestDistances[x] + W[v,x]\n",
        "            adjacent = W[v,x] > 0\n",
        "            unvis = unvisited[v]\n",
        "\n",
        "            # if v and x are connected, v has not been visited, and we\n",
        "            # find a shorter distance to node v...\n",
        "            if adjacent and unvis and oldDistance > newDistance:\n",
        "                # save the shortest distance found so far\n",
        "                shortestDistances[v] = shortestDistances[x] + W[v,x]\n",
        "\n",
        "                # save the previous vertex\n",
        "                previousVertices[v] = x\n",
        "\n",
        "    # print the table similar to the book\n",
        "    print(numpy.array([numpy.arange(n) + 1, shortestDistances,\n",
        "                       previousVertices + 1]).T)\n",
        "    # return the outputs\n",
        "    return shortestDistances, previousVertices\n"
      ]
    },
    {
      "cell_type": "markdown",
      "metadata": {
        "id": "xurS9o7CGCVe"
      },
      "source": [
        "Let's create the weight matrix for the network in Figure 9.15 and run Dijkstra's algorithms to find the shortest paths from $v_1$ to all other vertices."
      ]
    },
    {
      "cell_type": "code",
      "execution_count": null,
      "metadata": {
        "id": "b2X222tRGCVe",
        "outputId": "9b0f89c0-2b5e-4724-e7c9-283168f55afd"
      },
      "outputs": [
        {
          "name": "stdout",
          "output_type": "stream",
          "text": [
            "[[ 1.  0. inf]\n",
            " [ 2.  3.  3.]\n",
            " [ 3.  1.  1.]\n",
            " [ 4.  2.  3.]\n",
            " [ 5.  2.  1.]\n",
            " [ 6.  4.  2.]]\n"
          ]
        }
      ],
      "source": [
        "# Create a weight matrix for the network in Figure 9.15\n",
        "W1 = numpy.array([[0, 4, 1, 0, 2, 0],\n",
        "                  [4, 0, 2, 1, 0, 1],\n",
        "                  [1, 2, 0, 1, 1, 0],\n",
        "                  [0, 1, 1, 0, 2, 0],\n",
        "                  [2, 0, 1, 2, 0, 0],\n",
        "                  [0, 1, 0, 0, 0, 0]])\n",
        "\n",
        "# Run Dijkstra's algorithm with a source at vertex v1\n",
        "shortestDistances, previousVertices = Dijkstra(W1, 1)"
      ]
    },
    {
      "cell_type": "markdown",
      "metadata": {
        "id": "sIhMiEYWGCVf"
      },
      "source": [
        "Next, we write a function to clean up the outputs and display the paths"
      ]
    },
    {
      "cell_type": "code",
      "execution_count": null,
      "metadata": {
        "id": "GqxtVxNSGCVf"
      },
      "outputs": [],
      "source": [
        "# Use the previousVertices chart to construct the shortest path from\n",
        "# input source to input destination and print a string showing\n",
        "# showing the path\n",
        "\n",
        "def printShortestPath(shortestDistances, previousVertices, source,\n",
        "                      destination):\n",
        "    # avoid off-by-one error\n",
        "    source -= 1\n",
        "    destination -= 1\n",
        "\n",
        "    # convert previousVertices to integers\n",
        "    previousVertices = previousVertices.astype(int)\n",
        "\n",
        "    # initialize the path with the destination\n",
        "    path = [destination]\n",
        "\n",
        "    # add the previous vertex from previousVertices until we reach\n",
        "    # the source\n",
        "    for _ in range(previousVertices.shape[0] - 1):\n",
        "        # if the source is in the path, stop\n",
        "        if path[-1] == source:\n",
        "            break\n",
        "        # if the source is not in the path, add the previous vertex\n",
        "        else:\n",
        "            path.append(previousVertices[path[-1]])\n",
        "\n",
        "    # initialize an output string\n",
        "    output = []\n",
        "\n",
        "    # iterate through the path backwards (source to destination)\n",
        "    for i in numpy.flip(path):\n",
        "        # construct a list of strings to output\n",
        "        if i > 0:\n",
        "            output.append('->')\n",
        "\n",
        "        output.append('v' + str(i + 1))\n",
        "\n",
        "    # print the strings with no spaces\n",
        "    print('Path =', *output, '\\t\\t Distance =',\n",
        "          shortestDistances[destination])"
      ]
    },
    {
      "cell_type": "markdown",
      "metadata": {
        "id": "ggBvl3LlGCVf"
      },
      "source": [
        "And, we run it to find:"
      ]
    },
    {
      "cell_type": "code",
      "execution_count": null,
      "metadata": {
        "id": "ABM7jgtyGCVf",
        "outputId": "64c9cb91-5aff-4c6d-e1af-04336c957b77"
      },
      "outputs": [
        {
          "name": "stdout",
          "output_type": "stream",
          "text": [
            "Path = v1 -> v3 -> v2 \t\t Distance = 3.0\n",
            "Path = v1 -> v3 \t\t Distance = 1.0\n",
            "Path = v1 -> v3 -> v4 \t\t Distance = 2.0\n",
            "Path = v1 -> v5 \t\t Distance = 2.0\n",
            "Path = v1 -> v3 -> v2 -> v6 \t\t Distance = 4.0\n"
          ]
        }
      ],
      "source": [
        "for i in range(2,7):\n",
        "    printShortestPath(shortestDistances, previousVertices, 1, i)"
      ]
    },
    {
      "cell_type": "markdown",
      "metadata": {
        "id": "oP4zf7g6GCVf"
      },
      "source": [
        "Next, we try a network that we know is not connected. First, we will check if the vertices in question are connected."
      ]
    },
    {
      "cell_type": "code",
      "execution_count": null,
      "metadata": {
        "id": "e0kzTBMcGCVf"
      },
      "outputs": [],
      "source": [
        "# find the shortest paths to connected vertices\n",
        "def distancesWithinComponent(source):\n",
        "    # initialize the connected component\n",
        "    component = [source]\n",
        "\n",
        "    # construct the connected component\n",
        "    for i in range(1, W2.shape[0] + 1):\n",
        "        if i != source and isConnected(W2, source, i):\n",
        "            component.append(i)\n",
        "\n",
        "    # find the weight matrix correponding to the connected component\n",
        "    subnetwork = W2[numpy.array(component) - 1,:][:,numpy.array(component) - 1]\n",
        "\n",
        "    # run Dijkstra's algorithm\n",
        "    return Dijkstra(subnetwork, 1)\n",
        "\n"
      ]
    },
    {
      "cell_type": "markdown",
      "metadata": {
        "id": "cw6F6AkYGCVf"
      },
      "source": [
        "Let's find the paths from $v_1$."
      ]
    },
    {
      "cell_type": "code",
      "execution_count": null,
      "metadata": {
        "id": "fFOOlE_qGCVf",
        "outputId": "9d29888a-b883-4352-e273-70be2764c7db"
      },
      "outputs": [
        {
          "name": "stdout",
          "output_type": "stream",
          "text": [
            "Vertex 1 and vertex 2 are adjacent\n",
            "There is a path with 2 edges from vertex 1 to vertex 6\n",
            "[[ 1.  0. inf]\n",
            " [ 2.  4.  1.]\n",
            " [ 3.  5.  2.]]\n"
          ]
        },
        {
          "data": {
            "text/plain": [
              "(array([0., 4., 5.]), array([inf,  0.,  1.]))"
            ]
          },
          "execution_count": 12,
          "metadata": {},
          "output_type": "execute_result"
        }
      ],
      "source": [
        "# Create a weight matrix for the network in Figure 9.16\n",
        "W2 = numpy.array([[0, 4, 0, 0, 0, 0],\n",
        "                  [4, 0, 0, 0, 0, 1],\n",
        "                  [0, 0, 0, 1, 4, 0],\n",
        "                  [0, 0, 1, 0, 2, 0],\n",
        "                  [0, 0, 4, 2, 0, 0],\n",
        "                  [0, 1, 0, 0, 0, 0]])\n",
        "\n",
        "distancesWithinComponent(1)"
      ]
    },
    {
      "cell_type": "markdown",
      "metadata": {
        "id": "e4j473twGCVg"
      },
      "source": [
        "Let's find the paths from $v_3$."
      ]
    },
    {
      "cell_type": "code",
      "execution_count": null,
      "metadata": {
        "id": "pCfd9iV5GCVg",
        "outputId": "a6eaec2f-2d91-4f08-fb4d-62c81ee161ec"
      },
      "outputs": [
        {
          "name": "stdout",
          "output_type": "stream",
          "text": [
            "Vertex 3 and vertex 4 are adjacent\n",
            "Vertex 3 and vertex 5 are adjacent\n",
            "[[ 1.  0. inf]\n",
            " [ 2.  1.  1.]\n",
            " [ 3.  3.  2.]]\n"
          ]
        },
        {
          "data": {
            "text/plain": [
              "(array([0., 1., 3.]), array([inf,  0.,  1.]))"
            ]
          },
          "execution_count": 13,
          "metadata": {},
          "output_type": "execute_result"
        }
      ],
      "source": [
        "distancesWithinComponent(3)"
      ]
    },
    {
      "cell_type": "code",
      "source": [
        "B = numpy.array([[0, 1, 1, 0, 0, 0],\n",
        "        [1, 0, 0, 1, 1, 0],\n",
        "        [1, 0, 0, 0, 1, 0],\n",
        "        [0, 1, 0, 0, 1, 1],\n",
        "        [0, 0, 1, 1, 0, 1],\n",
        "        [0, 0, 0, 1, 1, 0]])"
      ],
      "metadata": {
        "id": "CkBIw4itGGwM"
      },
      "execution_count": 8,
      "outputs": []
    },
    {
      "cell_type": "code",
      "source": [
        "# Run DFS on the graph with adjacency matrix A and source 1\n",
        "vertexList = DFS(B,1)\n",
        "\n",
        "# Add 1 to the vertex numbers\n",
        "[x + 1 for x in vertexList]"
      ],
      "metadata": {
        "id": "LBFQvyS5GJIc",
        "outputId": "4bdc6f8b-e9bb-43c1-8497-eb6bf4aea2d9",
        "colab": {
          "base_uri": "https://localhost:8080/"
        }
      },
      "execution_count": 5,
      "outputs": [
        {
          "output_type": "execute_result",
          "data": {
            "text/plain": [
              "[1, 2, 4, 5, 3, 6]"
            ]
          },
          "metadata": {},
          "execution_count": 5
        }
      ]
    },
    {
      "cell_type": "code",
      "source": [
        "# Install necessary libraries\n",
        "!pip install folium requests\n",
        "\n",
        "import folium\n",
        "import requests\n",
        "\n",
        "# Step 1: Download GeoJSON data for Malaysia\n",
        "url = \"https://raw.githubusercontent.com/johan/world.geo.json/master/countries/MYS.geo.json\"\n",
        "response = requests.get(url)\n",
        "malaysia_geojson = response.json()\n",
        "\n",
        "# Step 2: Create a map centered on Malaysia\n",
        "malaysia_map = folium.Map(location=[4.2105, 101.9754], zoom_start=6)\n",
        "\n",
        "# Step 3: Highlight Malaysia using GeoJSON data\n",
        "folium.GeoJson(\n",
        "    malaysia_geojson,\n",
        "    name=\"Malaysia\",\n",
        "    style_function=lambda feature: {\n",
        "        \"fillColor\": \"yellow\",    # Highlight color\n",
        "        \"color\": \"black\",         # Border color\n",
        "        \"weight\": 2,              # Border thickness\n",
        "        \"fillOpacity\": 0.5        # Transparency\n",
        "    }\n",
        ").add_to(malaysia_map)\n",
        "\n",
        "# Step 4: Add a layer control (optional)\n",
        "folium.LayerControl().add_to(malaysia_map)\n",
        "\n",
        "# Display the map\n",
        "malaysia_map\n"
      ],
      "metadata": {
        "id": "1Cdq2C_LJX7K",
        "outputId": "8f98dcaa-ade4-4495-b56a-121d75ce16a1",
        "colab": {
          "base_uri": "https://localhost:8080/",
          "height": 1000
        }
      },
      "execution_count": 11,
      "outputs": [
        {
          "output_type": "stream",
          "name": "stdout",
          "text": [
            "Requirement already satisfied: folium in /usr/local/lib/python3.10/dist-packages (0.18.0)\n",
            "Requirement already satisfied: requests in /usr/local/lib/python3.10/dist-packages (2.32.3)\n",
            "Requirement already satisfied: branca>=0.6.0 in /usr/local/lib/python3.10/dist-packages (from folium) (0.8.0)\n",
            "Requirement already satisfied: jinja2>=2.9 in /usr/local/lib/python3.10/dist-packages (from folium) (3.1.4)\n",
            "Requirement already satisfied: numpy in /usr/local/lib/python3.10/dist-packages (from folium) (1.26.4)\n",
            "Requirement already satisfied: xyzservices in /usr/local/lib/python3.10/dist-packages (from folium) (2024.9.0)\n",
            "Requirement already satisfied: charset-normalizer<4,>=2 in /usr/local/lib/python3.10/dist-packages (from requests) (3.4.0)\n",
            "Requirement already satisfied: idna<4,>=2.5 in /usr/local/lib/python3.10/dist-packages (from requests) (3.10)\n",
            "Requirement already satisfied: urllib3<3,>=1.21.1 in /usr/local/lib/python3.10/dist-packages (from requests) (2.2.3)\n",
            "Requirement already satisfied: certifi>=2017.4.17 in /usr/local/lib/python3.10/dist-packages (from requests) (2024.8.30)\n",
            "Requirement already satisfied: MarkupSafe>=2.0 in /usr/local/lib/python3.10/dist-packages (from jinja2>=2.9->folium) (3.0.2)\n"
          ]
        },
        {
          "output_type": "execute_result",
          "data": {
            "text/plain": [
              "<folium.folium.Map at 0x7bde40402380>"
            ],
            "text/html": [
              "<div style=\"width:100%;\"><div style=\"position:relative;width:100%;height:0;padding-bottom:60%;\"><span style=\"color:#565656\">Make this Notebook Trusted to load map: File -> Trust Notebook</span><iframe srcdoc=\"&lt;!DOCTYPE html&gt;\n",
              "&lt;html&gt;\n",
              "&lt;head&gt;\n",
              "    \n",
              "    &lt;meta http-equiv=&quot;content-type&quot; content=&quot;text/html; charset=UTF-8&quot; /&gt;\n",
              "    \n",
              "        &lt;script&gt;\n",
              "            L_NO_TOUCH = false;\n",
              "            L_DISABLE_3D = false;\n",
              "        &lt;/script&gt;\n",
              "    \n",
              "    &lt;style&gt;html, body {width: 100%;height: 100%;margin: 0;padding: 0;}&lt;/style&gt;\n",
              "    &lt;style&gt;#map {position:absolute;top:0;bottom:0;right:0;left:0;}&lt;/style&gt;\n",
              "    &lt;script src=&quot;https://cdn.jsdelivr.net/npm/leaflet@1.9.3/dist/leaflet.js&quot;&gt;&lt;/script&gt;\n",
              "    &lt;script src=&quot;https://code.jquery.com/jquery-3.7.1.min.js&quot;&gt;&lt;/script&gt;\n",
              "    &lt;script src=&quot;https://cdn.jsdelivr.net/npm/bootstrap@5.2.2/dist/js/bootstrap.bundle.min.js&quot;&gt;&lt;/script&gt;\n",
              "    &lt;script src=&quot;https://cdnjs.cloudflare.com/ajax/libs/Leaflet.awesome-markers/2.0.2/leaflet.awesome-markers.js&quot;&gt;&lt;/script&gt;\n",
              "    &lt;link rel=&quot;stylesheet&quot; href=&quot;https://cdn.jsdelivr.net/npm/leaflet@1.9.3/dist/leaflet.css&quot;/&gt;\n",
              "    &lt;link rel=&quot;stylesheet&quot; href=&quot;https://cdn.jsdelivr.net/npm/bootstrap@5.2.2/dist/css/bootstrap.min.css&quot;/&gt;\n",
              "    &lt;link rel=&quot;stylesheet&quot; href=&quot;https://netdna.bootstrapcdn.com/bootstrap/3.0.0/css/bootstrap-glyphicons.css&quot;/&gt;\n",
              "    &lt;link rel=&quot;stylesheet&quot; href=&quot;https://cdn.jsdelivr.net/npm/@fortawesome/fontawesome-free@6.2.0/css/all.min.css&quot;/&gt;\n",
              "    &lt;link rel=&quot;stylesheet&quot; href=&quot;https://cdnjs.cloudflare.com/ajax/libs/Leaflet.awesome-markers/2.0.2/leaflet.awesome-markers.css&quot;/&gt;\n",
              "    &lt;link rel=&quot;stylesheet&quot; href=&quot;https://cdn.jsdelivr.net/gh/python-visualization/folium/folium/templates/leaflet.awesome.rotate.min.css&quot;/&gt;\n",
              "    \n",
              "            &lt;meta name=&quot;viewport&quot; content=&quot;width=device-width,\n",
              "                initial-scale=1.0, maximum-scale=1.0, user-scalable=no&quot; /&gt;\n",
              "            &lt;style&gt;\n",
              "                #map_2bb87c0aa7a8f9fa4910b57569bdf01d {\n",
              "                    position: relative;\n",
              "                    width: 100.0%;\n",
              "                    height: 100.0%;\n",
              "                    left: 0.0%;\n",
              "                    top: 0.0%;\n",
              "                }\n",
              "                .leaflet-container { font-size: 1rem; }\n",
              "            &lt;/style&gt;\n",
              "        \n",
              "&lt;/head&gt;\n",
              "&lt;body&gt;\n",
              "    \n",
              "    \n",
              "            &lt;div class=&quot;folium-map&quot; id=&quot;map_2bb87c0aa7a8f9fa4910b57569bdf01d&quot; &gt;&lt;/div&gt;\n",
              "        \n",
              "&lt;/body&gt;\n",
              "&lt;script&gt;\n",
              "    \n",
              "    \n",
              "            var map_2bb87c0aa7a8f9fa4910b57569bdf01d = L.map(\n",
              "                &quot;map_2bb87c0aa7a8f9fa4910b57569bdf01d&quot;,\n",
              "                {\n",
              "                    center: [4.2105, 101.9754],\n",
              "                    crs: L.CRS.EPSG3857,\n",
              "                    zoom: 6,\n",
              "                    zoomControl: true,\n",
              "                    preferCanvas: false,\n",
              "                }\n",
              "            );\n",
              "\n",
              "            \n",
              "\n",
              "        \n",
              "    \n",
              "            var tile_layer_13435e8225001955dabe531269a700ba = L.tileLayer(\n",
              "                &quot;https://tile.openstreetmap.org/{z}/{x}/{y}.png&quot;,\n",
              "                {&quot;attribution&quot;: &quot;\\u0026copy; \\u003ca href=\\&quot;https://www.openstreetmap.org/copyright\\&quot;\\u003eOpenStreetMap\\u003c/a\\u003e contributors&quot;, &quot;detectRetina&quot;: false, &quot;maxNativeZoom&quot;: 19, &quot;maxZoom&quot;: 19, &quot;minZoom&quot;: 0, &quot;noWrap&quot;: false, &quot;opacity&quot;: 1, &quot;subdomains&quot;: &quot;abc&quot;, &quot;tms&quot;: false}\n",
              "            );\n",
              "        \n",
              "    \n",
              "            tile_layer_13435e8225001955dabe531269a700ba.addTo(map_2bb87c0aa7a8f9fa4910b57569bdf01d);\n",
              "        \n",
              "    \n",
              "        function geo_json_ea11ee3930f883afb9f0fa61ea3ec875_styler(feature) {\n",
              "            switch(feature.id) {\n",
              "                default:\n",
              "                    return {&quot;color&quot;: &quot;black&quot;, &quot;fillColor&quot;: &quot;yellow&quot;, &quot;fillOpacity&quot;: 0.5, &quot;weight&quot;: 2};\n",
              "            }\n",
              "        }\n",
              "\n",
              "        function geo_json_ea11ee3930f883afb9f0fa61ea3ec875_onEachFeature(feature, layer) {\n",
              "            layer.on({\n",
              "            });\n",
              "        };\n",
              "        var geo_json_ea11ee3930f883afb9f0fa61ea3ec875 = L.geoJson(null, {\n",
              "                onEachFeature: geo_json_ea11ee3930f883afb9f0fa61ea3ec875_onEachFeature,\n",
              "            \n",
              "                style: geo_json_ea11ee3930f883afb9f0fa61ea3ec875_styler,\n",
              "        });\n",
              "\n",
              "        function geo_json_ea11ee3930f883afb9f0fa61ea3ec875_add (data) {\n",
              "            geo_json_ea11ee3930f883afb9f0fa61ea3ec875\n",
              "                .addData(data);\n",
              "        }\n",
              "            geo_json_ea11ee3930f883afb9f0fa61ea3ec875_add({&quot;features&quot;: [{&quot;geometry&quot;: {&quot;coordinates&quot;: [[[[101.075516, 6.204867], [101.154219, 5.691384], [101.814282, 5.810808], [102.141187, 6.221636], [102.371147, 6.128205], [102.961705, 5.524495], [103.381215, 4.855001], [103.438575, 4.181606], [103.332122, 3.726698], [103.429429, 3.382869], [103.502448, 2.791019], [103.854674, 2.515454], [104.247932, 1.631141], [104.228811, 1.293048], [103.519707, 1.226334], [102.573615, 1.967115], [101.390638, 2.760814], [101.27354, 3.270292], [100.695435, 3.93914], [100.557408, 4.76728], [100.196706, 5.312493], [100.30626, 6.040562], [100.085757, 6.464489], [100.259596, 6.642825], [101.075516, 6.204867]]], [[[118.618321, 4.478202], [117.882035, 4.137551], [117.015214, 4.306094], [115.865517, 4.306559], [115.519078, 3.169238], [115.134037, 2.821482], [114.621355, 1.430688], [113.80585, 1.217549], [112.859809, 1.49779], [112.380252, 1.410121], [111.797548, 0.904441], [111.159138, 0.976478], [110.514061, 0.773131], [109.830227, 1.338136], [109.66326, 2.006467], [110.396135, 1.663775], [111.168853, 1.850637], [111.370081, 2.697303], [111.796928, 2.885897], [112.995615, 3.102395], [113.712935, 3.893509], [114.204017, 4.525874], [114.659596, 4.007637], [114.869557, 4.348314], [115.347461, 4.316636], [115.4057, 4.955228], [115.45071, 5.44773], [116.220741, 6.143191], [116.725103, 6.924771], [117.129626, 6.928053], [117.643393, 6.422166], [117.689075, 5.98749], [118.347691, 5.708696], [119.181904, 5.407836], [119.110694, 5.016128], [118.439727, 4.966519], [118.618321, 4.478202]]]], &quot;type&quot;: &quot;MultiPolygon&quot;}, &quot;id&quot;: &quot;MYS&quot;, &quot;properties&quot;: {&quot;name&quot;: &quot;Malaysia&quot;}, &quot;type&quot;: &quot;Feature&quot;}], &quot;type&quot;: &quot;FeatureCollection&quot;});\n",
              "\n",
              "        \n",
              "    \n",
              "            geo_json_ea11ee3930f883afb9f0fa61ea3ec875.addTo(map_2bb87c0aa7a8f9fa4910b57569bdf01d);\n",
              "        \n",
              "    \n",
              "            var layer_control_79cc397e6cc68589e422683e94bdcb34_layers = {\n",
              "                base_layers : {\n",
              "                    &quot;openstreetmap&quot; : tile_layer_13435e8225001955dabe531269a700ba,\n",
              "                },\n",
              "                overlays :  {\n",
              "                    &quot;Malaysia&quot; : geo_json_ea11ee3930f883afb9f0fa61ea3ec875,\n",
              "                },\n",
              "            };\n",
              "            let layer_control_79cc397e6cc68589e422683e94bdcb34 = L.control.layers(\n",
              "                layer_control_79cc397e6cc68589e422683e94bdcb34_layers.base_layers,\n",
              "                layer_control_79cc397e6cc68589e422683e94bdcb34_layers.overlays,\n",
              "                {&quot;autoZIndex&quot;: true, &quot;collapsed&quot;: true, &quot;position&quot;: &quot;topright&quot;}\n",
              "            ).addTo(map_2bb87c0aa7a8f9fa4910b57569bdf01d);\n",
              "\n",
              "        \n",
              "&lt;/script&gt;\n",
              "&lt;/html&gt;\" style=\"position:absolute;width:100%;height:100%;left:0;top:0;border:none !important;\" allowfullscreen webkitallowfullscreen mozallowfullscreen></iframe></div></div>"
            ]
          },
          "metadata": {},
          "execution_count": 11
        }
      ]
    }
  ],
  "metadata": {
    "kernelspec": {
      "display_name": "Python 3.7 (DL)",
      "language": "python",
      "name": "dl"
    },
    "language_info": {
      "codemirror_mode": {
        "name": "ipython",
        "version": 3
      },
      "file_extension": ".py",
      "mimetype": "text/x-python",
      "name": "python",
      "nbconvert_exporter": "python",
      "pygments_lexer": "ipython3",
      "version": "3.7.7"
    },
    "colab": {
      "provenance": []
    }
  },
  "nbformat": 4,
  "nbformat_minor": 0
}