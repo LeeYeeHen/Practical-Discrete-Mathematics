{
  "cells": [
    {
      "cell_type": "markdown",
      "metadata": {
        "id": "t91iw2AupOmk"
      },
      "source": [
        "# Chapter 1 - Introduction: Key Concepts, Notation, Set Theory, Relations, and Functions\n",
        "\n",
        "This notebook contains code accompanying Chapter 1 Introduction: Key Concepts, Notation, Set Theory, Relations, and Functions in *Practical Discrete Mathematics* by Ryan T. White and Archana Tikayat Ray\n",
        "\n",
        "## Functions and Relations\n",
        "\n",
        "### The `sort()` function"
      ]
    },
    {
      "cell_type": "code",
      "execution_count": null,
      "metadata": {
        "id": "T_C0I57NpOmn",
        "outputId": "5ab30355-c921-48a2-d3c0-9ffef9f6e24a"
      },
      "outputs": [
        {
          "name": "stdout",
          "output_type": "stream",
          "text": [
            "[1, 2, 3, 4, 5, 8, 9, 12]\n",
            "['Brandon', 'Elise', 'Eugene', 'Kumar', 'Wyatt']\n"
          ]
        }
      ],
      "source": [
        "numbers = [3, 1, 4, 12, 8, 5, 2, 9]\n",
        "names = ['Wyatt', 'Brandon', 'Kumar', 'Eugene', 'Elise']\n",
        "\n",
        "# Apply the sort() function to the lists\n",
        "numbers.sort()\n",
        "names.sort()\n",
        "\n",
        "# Display the output\n",
        "print(numbers)\n",
        "print(names)"
      ]
    },
    {
      "cell_type": "markdown",
      "metadata": {
        "id": "crgAdZJCpOmp"
      },
      "source": [
        "### The `shuffle()` function"
      ]
    },
    {
      "cell_type": "code",
      "execution_count": 9,
      "metadata": {
        "id": "n4fFCZ12pOmp",
        "outputId": "a66877a4-2b41-4282-d600-42eafc428cc8",
        "colab": {
          "base_uri": "https://localhost:8080/"
        }
      },
      "outputs": [
        {
          "output_type": "stream",
          "name": "stdout",
          "text": [
            "[12, 2, 1, 5, 9, 3, 8, 4]\n",
            "[4, 2, 8, 3, 1, 12, 5, 9]\n",
            "[4, 5, 1, 9, 3, 8, 12, 2]\n",
            "[9, 12, 2, 8, 5, 3, 4, 1]\n",
            "[9, 8, 4, 3, 12, 1, 5, 2]\n"
          ]
        }
      ],
      "source": [
        "import random\n",
        "\n",
        "# Set a random seed so the code is reproducible\n",
        "random.seed(1)\n",
        "\n",
        "# Run the random.shuffle() function 5 times and display the outputs\n",
        "for i in range(0,5):\n",
        "    numbers = [3, 1, 4, 12, 8, 5, 2, 9]\n",
        "    random.shuffle(numbers)\n",
        "    print(numbers)"
      ]
    },
    {
      "cell_type": "code",
      "source": [
        "# Get user input for proposition operation\n",
        "operation = input(\"Enter the logical operation (AND, OR, NOT): \").strip().upper()\n",
        "\n",
        "# Handle two propositions for AND/OR operations\n",
        "if operation in [\"AND\", \"OR\"]:\n",
        "    p_values = [True, True, False, False]\n",
        "    q_values = [True, False, True, False]\n",
        "\n",
        "    # Display the truth table\n",
        "    print(f\"\\np     q     p {operation} q\")\n",
        "    for p, q in zip(p_values, q_values):\n",
        "        if operation == \"AND\":\n",
        "            result = p and q\n",
        "        elif operation == \"OR\":\n",
        "            result = p or q\n",
        "        print(f\"{p}  {q}   {result}\")\n",
        "\n",
        "# Handle NOT operation (only one proposition)\n",
        "elif operation == \"NOT\":\n",
        "    p_values = [True, False]\n",
        "\n",
        "    # Display the truth table\n",
        "    print(f\"\\np     NOT p\")\n",
        "    for p in p_values:\n",
        "        print(f\"{p}   {not p}\")\n",
        "\n",
        "else:\n",
        "    print(\"Invalid operation. Please enter AND, OR, or NOT.\")\n"
      ],
      "metadata": {
        "id": "zckprHM5w8aE",
        "outputId": "235067e8-2905-4323-f510-1e317e297cf7",
        "colab": {
          "base_uri": "https://localhost:8080/"
        }
      },
      "execution_count": 14,
      "outputs": [
        {
          "output_type": "stream",
          "name": "stdout",
          "text": [
            "Enter the logical operation (AND, OR, NOT): and\n",
            "\n",
            "p     q     p AND q\n",
            "True  True   True\n",
            "True  False   False\n",
            "False  True   False\n",
            "False  False   False\n"
          ]
        }
      ]
    },
    {
      "cell_type": "code",
      "source": [
        "# Request user input for two propositions\n",
        "p = input(\"Enter the value for p (True/False): \").strip().capitalize()\n",
        "q = input(\"Enter the value for q (True/False): \").strip().capitalize()\n",
        "\n",
        "# Convert user input into Boolean values\n",
        "p = True if p == \"True\" else False\n",
        "q = True if q == \"True\" else False\n",
        "\n",
        "# Generate truth table for p AND q\n",
        "print(\"\\np     q     p AND q\")\n",
        "print(f\"{p}  {q}   {p and q}\")\n"
      ],
      "metadata": {
        "id": "Mp2fh1ntzRhP",
        "outputId": "56115e4d-67de-40bb-aa1c-54ac72099a0f",
        "colab": {
          "base_uri": "https://localhost:8080/"
        }
      },
      "execution_count": 15,
      "outputs": [
        {
          "output_type": "stream",
          "name": "stdout",
          "text": [
            "Enter the value for p (True/False): true\n",
            "Enter the value for q (True/False): false\n",
            "\n",
            "p     q     p AND q\n",
            "True  False   False\n"
          ]
        }
      ]
    }
  ],
  "metadata": {
    "kernelspec": {
      "display_name": "Python 3.7 (DL)",
      "language": "python",
      "name": "dl"
    },
    "language_info": {
      "codemirror_mode": {
        "name": "ipython",
        "version": 3
      },
      "file_extension": ".py",
      "mimetype": "text/x-python",
      "name": "python",
      "nbconvert_exporter": "python",
      "pygments_lexer": "ipython3",
      "version": "3.7.7"
    },
    "colab": {
      "provenance": []
    }
  },
  "nbformat": 4,
  "nbformat_minor": 0
}